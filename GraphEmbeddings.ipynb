{
  "cells": [
    {
      "cell_type": "markdown",
      "metadata": {
        "id": "b1O4lsFz8YGJ"
      },
      "source": [
        "### Loading Data From File"
      ]
    },
    {
      "cell_type": "code",
      "execution_count": null,
      "metadata": {
        "id": "ivxCUJOC97jh"
      },
      "outputs": [],
      "source": [
        "# pip install dgl dglgo -f https://data.dgl.ai/wheels/repo.html"
      ]
    },
    {
      "cell_type": "code",
      "execution_count": null,
      "metadata": {
        "colab": {
          "base_uri": "https://localhost:8080/"
        },
        "id": "_HLDPpLK9N7e",
        "outputId": "bf878c93-1d78-4b29-ca14-0f8e7eb2f57b"
      },
      "outputs": [
        {
          "output_type": "execute_result",
          "data": {
            "text/plain": [
              "<torch._C.Generator at 0x7f2e54f1c130>"
            ]
          },
          "metadata": {},
          "execution_count": 2
        }
      ],
      "source": [
        "import torch \n",
        "import networkx as nx\n",
        "import numpy as np\n",
        "import scipy.sparse as sp\n",
        "import dgl\n",
        "import random\n",
        "\n",
        "#Seeds\n",
        "dgl.seed(42)\n",
        "random.seed(42)\n",
        "np.random.seed(42)\n",
        "torch.manual_seed(42)"
      ]
    },
    {
      "cell_type": "code",
      "execution_count": null,
      "metadata": {
        "id": "FNZ4CceS8YGQ"
      },
      "outputs": [],
      "source": [
        "PATH_TO_GRAPH_FILE = \"Cit-HepTh.txt\"\n",
        "graphAdjList = []\n",
        "with open(PATH_TO_GRAPH_FILE, 'r') as f:\n",
        "    L = f.readlines()\n",
        "    for line_ in L:\n",
        "        if \"#\" in line_:\n",
        "            continue \n",
        "        src, dst = map(lambda x: int(x), line_.strip().split('\\t'))\n",
        "        graphAdjList.append([src,dst])"
      ]
    },
    {
      "cell_type": "markdown",
      "metadata": {
        "id": "LPpklzCw8YGT"
      },
      "source": [
        "### Loading Data into NetworkX"
      ]
    },
    {
      "cell_type": "code",
      "execution_count": null,
      "metadata": {
        "id": "2ewwWhQC8YGU"
      },
      "outputs": [],
      "source": [
        "nx_g = nx.DiGraph()\n",
        "nx_g.add_edges_from(graphAdjList)\n",
        "\n",
        "paper_to_node = {node:index for index, node in enumerate(sorted(nx_g.nodes())) }\n",
        "node_to_paper = {v:k for k, v in paper_to_node.items()}"
      ]
    },
    {
      "cell_type": "markdown",
      "metadata": {
        "id": "K1C2h-kp8YGV"
      },
      "source": [
        "### Loading Data Into DGL"
      ]
    },
    {
      "cell_type": "code",
      "execution_count": null,
      "metadata": {
        "colab": {
          "base_uri": "https://localhost:8080/"
        },
        "id": "dL7Jrq_S9JWT",
        "outputId": "0f69a097-bc13-4e22-c8c9-22c840cbe759"
      },
      "outputs": [
        {
          "output_type": "stream",
          "name": "stdout",
          "text": [
            "False\n",
            "Using device: cpu\n"
          ]
        }
      ],
      "source": [
        "print(torch.cuda.is_available())\n",
        "if torch.cuda.is_available():\n",
        "  device = torch.device(\"cuda\")\n",
        "else:\n",
        "  device = torch.device(\"cpu\")\n",
        "print(\"Using device:\", device)"
      ]
    },
    {
      "cell_type": "code",
      "execution_count": null,
      "metadata": {
        "id": "Wvp4xeDM8YGV"
      },
      "outputs": [],
      "source": [
        "g = dgl.from_networkx(nx_g).to(device)"
      ]
    },
    {
      "cell_type": "markdown",
      "metadata": {
        "id": "FzZsO3UojGJQ"
      },
      "source": [
        "### Model Constants"
      ]
    },
    {
      "cell_type": "code",
      "execution_count": null,
      "metadata": {
        "id": "CLo8oc75jJi1"
      },
      "outputs": [],
      "source": [
        "EMB_SIZE = 20\n",
        "HIDDEN_DIM_SIZE = 15\n",
        "FEATURE_TO_USE = 'text' # ['ones','text','ones_text']"
      ]
    },
    {
      "cell_type": "markdown",
      "metadata": {
        "id": "cRgpSpQo8YGW"
      },
      "source": [
        "### Adding Node Features\n",
        "- https://docs.dgl.ai/en/0.7.x/guide/graph-feature.html#guide-graph-feature"
      ]
    },
    {
      "cell_type": "code",
      "execution_count": null,
      "metadata": {
        "id": "cvSSF7DF8YGX"
      },
      "outputs": [],
      "source": [
        "import pickle\n",
        "TEXT_EMBEDDING_FILE = \"sentence_transformers_embeddings.pkl\"\n",
        "def get_text_embeddings_in_order(graph_arg):\n",
        "  with open(TEXT_EMBEDDING_FILE, 'rb') as f:\n",
        "    loaded_embeddings = pickle.load(f)\n",
        "  loaded_embeddings = {int(k) : v for k, v in loaded_embeddings.items()} #Convert keys to integer values\n",
        "  ordered_embeddings = []\n",
        "  for node in range(graph_arg.number_of_nodes()):\n",
        "    #Get Paper ID From Node Number\n",
        "    paper_id = node_to_paper[node]\n",
        "    ordered_embeddings.append( torch.Tensor(loaded_embeddings[paper_id]) )\n",
        "  final_embeddings = torch.stack(ordered_embeddings)\n",
        "  return final_embeddings\n",
        "\n",
        "#Filling Graphs with All One's\n",
        "g.ndata['ones'] = torch.ones(g.num_nodes(), EMB_SIZE) \n",
        "g.ndata['text'] = get_text_embeddings_in_order(g)"
      ]
    },
    {
      "cell_type": "markdown",
      "metadata": {
        "id": "65WXZ7xM8YGY"
      },
      "source": [
        "### Training Test Splits\n",
        "- https://docs.dgl.ai/en/0.7.x/tutorials/blitz/4_link_predict.html#prepare-training-and-testing-sets"
      ]
    },
    {
      "cell_type": "code",
      "execution_count": null,
      "metadata": {
        "id": "UlzCYn3o8YGZ"
      },
      "outputs": [],
      "source": [
        "# Split edge set for training and testing\n",
        "u, v = g.edges()\n",
        "\n",
        "eids = np.arange(g.number_of_edges())\n",
        "eids = np.random.permutation(eids)\n",
        "test_size = int(len(eids) * 0.1)\n",
        "train_size = g.number_of_edges() - test_size\n",
        "test_pos_u, test_pos_v = u[eids[:test_size]], v[eids[:test_size]]\n",
        "train_pos_u, train_pos_v = u[eids[test_size:]], v[eids[test_size:]]\n",
        "\n",
        "# Find all negative edges and split them for training and testing\n",
        "neg_u, neg_v = dgl.sampling.global_uniform_negative_sampling(g, g.number_of_edges())\n",
        "test_neg_u, test_neg_v = neg_u[:test_size], neg_v[:test_size]\n",
        "train_neg_u, train_neg_v = neg_u[test_size:], neg_v[test_size:]"
      ]
    },
    {
      "cell_type": "code",
      "execution_count": null,
      "metadata": {
        "id": "xz8tJPSebygM"
      },
      "outputs": [],
      "source": [
        "# Removing test edges from graph\n",
        "train_g = dgl.remove_edges(g, eids[:test_size])"
      ]
    },
    {
      "cell_type": "markdown",
      "metadata": {
        "id": "RjVbwMA9vb-T"
      },
      "source": [
        "### Defining Model\n",
        "- https://docs.dgl.ai/en/0.7.x/tutorials/blitz/4_link_predict.html#define-a-graphsage-model"
      ]
    },
    {
      "cell_type": "code",
      "execution_count": null,
      "metadata": {
        "id": "JfVRy68JcL40"
      },
      "outputs": [],
      "source": [
        "from dgl.nn import SAGEConv\n",
        "from torch import nn\n",
        "\n",
        "class GraphSAGE(nn.Module):\n",
        "    def __init__(self, in_feats, h_feats):\n",
        "        super(GraphSAGE, self).__init__()\n",
        "        self.conv1 = SAGEConv(in_feats, h_feats, 'mean')\n",
        "        self.conv2 = SAGEConv(h_feats, h_feats, 'mean')\n",
        "\n",
        "    def forward(self, g, in_feat):\n",
        "        h = self.conv1(g, in_feat)\n",
        "        h = F.relu(h)\n",
        "        h = self.conv2(g, h)\n",
        "        return h"
      ]
    },
    {
      "cell_type": "markdown",
      "metadata": {
        "id": "8B7TAkA4v-C3"
      },
      "source": [
        "### Creating Pairs of Nodes"
      ]
    },
    {
      "cell_type": "code",
      "execution_count": null,
      "metadata": {
        "id": "1JgyquPYv9iE"
      },
      "outputs": [],
      "source": [
        "train_pos_g = dgl.graph((train_pos_u, train_pos_v), num_nodes=g.number_of_nodes())\n",
        "train_neg_g = dgl.graph((train_neg_u, train_neg_v), num_nodes=g.number_of_nodes())\n",
        "\n",
        "test_pos_g = dgl.graph((test_pos_u, test_pos_v), num_nodes=g.number_of_nodes())\n",
        "test_neg_g = dgl.graph((test_neg_u, test_neg_v), num_nodes=g.number_of_nodes())"
      ]
    },
    {
      "cell_type": "markdown",
      "metadata": {
        "id": "4b8iU8X2xyg5"
      },
      "source": [
        "### Similarity Models"
      ]
    },
    {
      "cell_type": "code",
      "execution_count": null,
      "metadata": {
        "id": "L4tDduSdxwx5"
      },
      "outputs": [],
      "source": [
        "import dgl.function as fn\n",
        "\n",
        "class DotPredictor(nn.Module):\n",
        "    def forward(self, g, h):\n",
        "        with g.local_scope():\n",
        "            g.ndata['h'] = h\n",
        "            # Compute a new edge feature named 'score' by a dot-product between the\n",
        "            # source node feature 'h' and destination node feature 'h'.\n",
        "            g.apply_edges(fn.u_dot_v('h', 'h', 'score'))\n",
        "            # u_dot_v returns a 1-element vector for each edge so you need to squeeze it.\n",
        "            return g.edata['score'][:, 0]\n",
        "\n",
        "class MLPPredictor(nn.Module):\n",
        "    def __init__(self, h_feats):\n",
        "        super().__init__()\n",
        "        self.W1 = nn.Linear(h_feats * 2, h_feats)\n",
        "        self.W2 = nn.Linear(h_feats, 1)\n",
        "\n",
        "    def apply_edges(self, edges):\n",
        "        \"\"\"\n",
        "        Computes a scalar score for each edge of the given graph.\n",
        "\n",
        "        Parameters\n",
        "        ----------\n",
        "        edges :\n",
        "            Has three members ``src``, ``dst`` and ``data``, each of\n",
        "            which is a dictionary representing the features of the\n",
        "            source nodes, the destination nodes, and the edges\n",
        "            themselves.\n",
        "\n",
        "        Returns\n",
        "        -------\n",
        "        dict\n",
        "            A dictionary of new edge features.\n",
        "        \"\"\"\n",
        "        h = torch.cat([edges.src['h'], edges.dst['h']], 1)\n",
        "        return {'score': self.W2(F.relu(self.W1(h))).squeeze(1)}\n",
        "\n",
        "    def forward(self, g, h):\n",
        "        with g.local_scope():\n",
        "            g.ndata['h'] = h\n",
        "            g.apply_edges(self.apply_edges)\n",
        "            return g.edata['score']"
      ]
    },
    {
      "cell_type": "markdown",
      "metadata": {
        "id": "0hMl3lwSyQuM"
      },
      "source": [
        "### Defining Training Variables"
      ]
    },
    {
      "cell_type": "code",
      "execution_count": null,
      "metadata": {
        "id": "gqnnutkRyNOY"
      },
      "outputs": [],
      "source": [
        "from sklearn.metrics import roc_auc_score, roc_curve, auc, RocCurveDisplay\n",
        "model = GraphSAGE(train_g.ndata[FEATURE_TO_USE].shape[1], HIDDEN_DIM_SIZE).to(device)\n",
        "# You can replace DotPredictor with MLPPredictor.\n",
        "pred = MLPPredictor(HIDDEN_DIM_SIZE)\n",
        "# pred = DotPredictor()\n",
        "\n",
        "def compute_loss(pos_score, neg_score):\n",
        "    scores = torch.cat([pos_score, neg_score])\n",
        "    labels = torch.cat([torch.ones(pos_score.shape[0]), torch.zeros(neg_score.shape[0])])\n",
        "    return F.binary_cross_entropy_with_logits(scores, labels)\n",
        "\n",
        "def compute_auc(pos_score, neg_score):\n",
        "    scores = torch.cat([pos_score, neg_score]).numpy()\n",
        "    labels = torch.cat(\n",
        "        [torch.ones(pos_score.shape[0]), torch.zeros(neg_score.shape[0])]).numpy()\n",
        "    fpr, tpr, thresholds = roc_curve(labels, scores)\n",
        "    roc_auc = auc(fpr, tpr)\n",
        "    display = RocCurveDisplay(fpr=fpr, tpr=tpr, roc_auc=roc_auc, estimator_name='Link Prediction')\n",
        "    display.plot()\n",
        "    return roc_auc\n",
        "\n",
        "def compute_accuracy(pos_score, neg_score):\n",
        "    scores = nn.Sigmoid()(torch.cat([pos_score, neg_score]))\n",
        "    scores[scores < 0.5] = 0\n",
        "    scores[scores >= 0.5] = 1\n",
        "    labels = torch.cat(\n",
        "        [torch.ones(pos_score.shape[0]), torch.zeros(neg_score.shape[0])])\n",
        "    return torch.mean((scores == labels).float()).item()"
      ]
    },
    {
      "cell_type": "markdown",
      "metadata": {
        "id": "Z2LsWhWszFfH"
      },
      "source": [
        "### Training Loop"
      ]
    },
    {
      "cell_type": "code",
      "execution_count": null,
      "metadata": {
        "colab": {
          "base_uri": "https://localhost:8080/",
          "height": 678
        },
        "id": "u4gi2wOIylb6",
        "outputId": "3482afa5-15b6-4d23-c07e-6e9ed423c7a8"
      },
      "outputs": [
        {
          "output_type": "stream",
          "name": "stderr",
          "text": [
            "/usr/local/lib/python3.7/dist-packages/torch/autocast_mode.py:141: UserWarning: User provided device_type of 'cuda', but CUDA is not available. Disabling\n",
            "  warnings.warn('User provided device_type of \\'cuda\\', but CUDA is not available. Disabling')\n"
          ]
        },
        {
          "output_type": "stream",
          "name": "stdout",
          "text": [
            "In epoch 0, loss: 0.6985003352165222\n",
            "In epoch 5, loss: 0.6584651470184326\n",
            "In epoch 10, loss: 0.5871767401695251\n",
            "In epoch 15, loss: 0.5469152927398682\n",
            "In epoch 20, loss: 0.5132866501808167\n",
            "In epoch 25, loss: 0.4835899770259857\n",
            "In epoch 30, loss: 0.4513896107673645\n",
            "In epoch 35, loss: 0.4295203685760498\n",
            "In epoch 40, loss: 0.4202827513217926\n",
            "In epoch 45, loss: 0.4128238558769226\n",
            "In epoch 50, loss: 0.40618133544921875\n",
            "In epoch 55, loss: 0.3988494575023651\n",
            "In epoch 60, loss: 0.3915781080722809\n",
            "In epoch 65, loss: 0.389045387506485\n",
            "In epoch 70, loss: 0.3823312222957611\n",
            "In epoch 75, loss: 0.37461057305336\n",
            "In epoch 80, loss: 0.3695172369480133\n",
            "In epoch 85, loss: 0.3648773729801178\n",
            "In epoch 90, loss: 0.3612649440765381\n",
            "In epoch 95, loss: 0.3579707145690918\n",
            "AUC: 0.8748168647419285 \t Accuracy: 0.7971372008323669\n"
          ]
        },
        {
          "output_type": "display_data",
          "data": {
            "text/plain": [
              "<Figure size 432x288 with 1 Axes>"
            ],
            "image/png": "[encoded data removed]"
          },
          "metadata": {
            "needs_background": "light"
          }
        }
      ],
      "source": [
        "import itertools\n",
        "import torch.nn.functional as F\n",
        "# ----------- 3. set up loss and optimizer -------------- #\n",
        "# in this case, loss will in training loop\n",
        "optimizer = torch.optim.Adam(itertools.chain(model.parameters(), pred.parameters()), lr=0.01)\n",
        "\n",
        "# ----------- 4. training -------------------------------- #\n",
        "all_logits = []\n",
        "for e in range(100):\n",
        "    # forward\n",
        "    h = model(train_g, train_g.ndata[FEATURE_TO_USE])\n",
        "    pos_score = pred(train_pos_g, h)\n",
        "    neg_score = pred(train_neg_g, h)\n",
        "    loss = compute_loss(pos_score, neg_score)\n",
        "\n",
        "    # backward\n",
        "    optimizer.zero_grad()\n",
        "    loss.backward()\n",
        "    optimizer.step()\n",
        "\n",
        "    if e % 5 == 0:\n",
        "        print('In epoch {}, loss: {}'.format(e, loss))\n",
        "\n",
        "# ----------- 5. check results ------------------------ #\n",
        "from sklearn.metrics import roc_auc_score\n",
        "with torch.no_grad():\n",
        "    pos_score = pred(test_pos_g, h)\n",
        "    neg_score = pred(test_neg_g, h)\n",
        "    print('AUC:', compute_auc(pos_score, neg_score), '\\t', 'Accuracy:', compute_accuracy(pos_score, neg_score))\n",
        "\n",
        "\n",
        "# Thumbnail credits: Link Prediction with Neo4j, Mark Needham\n",
        "# sphinx_gallery_thumbnail_path = '_static/blitz_4_link_predict.png'"
      ]
    }
  ],
  "metadata": {
    "colab": {
      "collapsed_sections": [],
      "name": "GraphEmbeddings.ipynb",
      "provenance": []
    },
    "interpreter": {
      "hash": "31f2aee4e71d21fbe5cf8b01ff0e069b9275f58929596ceb00d14d90e3e16cd6"
    },
    "kernelspec": {
      "display_name": "Python 3.8.10 64-bit",
      "language": "python",
      "name": "python3"
    },
    "language_info": {
      "codemirror_mode": {
        "name": "ipython",
        "version": 3
      },
      "file_extension": ".py",
      "mimetype": "text/x-python",
      "name": "python",
      "nbconvert_exporter": "python",
      "pygments_lexer": "ipython3",
      "version": "3.8.10"
    }
  },
  "nbformat": 4,
  "nbformat_minor": 0
}